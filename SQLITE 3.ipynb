{
 "cells": [
  {
   "cell_type": "code",
   "execution_count": 1,
   "id": "9b2e7779",
   "metadata": {},
   "outputs": [
    {
     "name": "stdout",
     "output_type": "stream",
     "text": [
      "database created successfully\n"
     ]
    }
   ],
   "source": [
    "import sqlite3\n",
    "sqlite3.connect('z1.db')\n",
    "print (\"database created successfully\")"
   ]
  },
  {
   "cell_type": "code",
   "execution_count": 2,
   "id": "fd6c67a5",
   "metadata": {},
   "outputs": [
    {
     "name": "stdout",
     "output_type": "stream",
     "text": [
      "database connected successfully\n"
     ]
    }
   ],
   "source": [
    "conn = sqlite3.connect('z1.db') # connecting database successfully\n",
    "print(\"database connected successfully\")\n",
    "c=conn.cursor()#a cursor for submitting SQL statements to the database server\n"
   ]
  },
  {
   "cell_type": "code",
   "execution_count": 9,
   "id": "11ab645f",
   "metadata": {},
   "outputs": [
    {
     "ename": "OperationalError",
     "evalue": "table z1details already exists",
     "output_type": "error",
     "traceback": [
      "\u001b[1;31m---------------------------------------------------------------------------\u001b[0m",
      "\u001b[1;31mOperationalError\u001b[0m                          Traceback (most recent call last)",
      "\u001b[1;32m<ipython-input-9-464d019d01c2>\u001b[0m in \u001b[0;36m<module>\u001b[1;34m\u001b[0m\n\u001b[1;32m----> 1\u001b[1;33m \u001b[0mc\u001b[0m\u001b[1;33m.\u001b[0m\u001b[0mexecute\u001b[0m\u001b[1;33m(\u001b[0m\u001b[1;34m'create table z1details (name char(30), regno int, Status char(10))'\u001b[0m\u001b[1;33m)\u001b[0m\u001b[1;33m\u001b[0m\u001b[1;33m\u001b[0m\u001b[0m\n\u001b[0m\u001b[0;32m      2\u001b[0m \u001b[0mprint\u001b[0m\u001b[1;33m(\u001b[0m\u001b[1;34m\"table created successfully\"\u001b[0m\u001b[1;33m)\u001b[0m\u001b[1;33m\u001b[0m\u001b[1;33m\u001b[0m\u001b[0m\n",
      "\u001b[1;31mOperationalError\u001b[0m: table z1details already exists"
     ]
    }
   ],
   "source": [
    "c.execute('create table z1details (name char(30), regno int, Status char(10))')\n",
    "print(\"table created successfully\")"
   ]
  },
  {
   "cell_type": "code",
   "execution_count": 34,
   "id": "2fe0edce",
   "metadata": {},
   "outputs": [
    {
     "name": "stdout",
     "output_type": "stream",
     "text": [
      "Records created successfully\n"
     ]
    }
   ],
   "source": [
    "c.execute('insert into z1details values(\"AAA\",1,\"pass\")')\n",
    "c.execute('insert into z1details values(\"ABC\",2,\"pass\")')\n",
    "c.execute('insert into z1details values(\"XXX\",3,\"pass\")')\n",
    "print (\"Records created successfully\");"
   ]
  },
  {
   "cell_type": "code",
   "execution_count": 11,
   "id": "e13f4cc7",
   "metadata": {},
   "outputs": [
    {
     "name": "stdout",
     "output_type": "stream",
     "text": [
      "('AAA', 1, 'fail')\n",
      "('ABC', 2, 'fail')\n",
      "('AAA', 1, 'fail')\n",
      "('ABC', 2, 'fail')\n"
     ]
    }
   ],
   "source": [
    "conn.commit()\n",
    "c.execute('select * from z1details')\n",
    "for row in c.fetchall():\n",
    "    print (row)"
   ]
  },
  {
   "cell_type": "code",
   "execution_count": 6,
   "id": "4d4f5811",
   "metadata": {},
   "outputs": [
    {
     "name": "stdout",
     "output_type": "stream",
     "text": [
      "('AAA', 1, 'fail')\n",
      "('ABC', 2, 'fail')\n",
      "('AAA', 1, 'fail')\n",
      "('ABC', 2, 'fail')\n"
     ]
    }
   ],
   "source": [
    "c.execute(\"UPDATE z1details set status = 'fail' where regno = 2\")\n",
    "conn.commit()\n",
    "c.execute('select * from z1details')\n",
    "for row in c.fetchall():\n",
    "    print (row)"
   ]
  },
  {
   "cell_type": "code",
   "execution_count": 7,
   "id": "c456f958",
   "metadata": {},
   "outputs": [
    {
     "name": "stdout",
     "output_type": "stream",
     "text": [
      "('AAA', 1, 'fail')\n",
      "('ABC', 2, 'fail')\n",
      "('AAA', 1, 'fail')\n",
      "('ABC', 2, 'fail')\n"
     ]
    }
   ],
   "source": [
    "c.execute('select * from z1details')\n",
    "for row in c.fetchall():\n",
    "    print (row)"
   ]
  },
  {
   "cell_type": "code",
   "execution_count": 8,
   "id": "e2c196b4",
   "metadata": {},
   "outputs": [
    {
     "name": "stdout",
     "output_type": "stream",
     "text": [
      "name =  AAA\n",
      "regno =  1\n",
      "status =  fail\n",
      "name =  ABC\n",
      "regno =  2\n",
      "status =  fail\n",
      "name =  AAA\n",
      "regno =  1\n",
      "status =  fail\n",
      "name =  ABC\n",
      "regno =  2\n",
      "status =  fail\n",
      "Operation done successfully\n"
     ]
    }
   ],
   "source": [
    "c.execute(\" DELETE from z1details where regno=3\")\n",
    "conn.commit()\n",
    "c.execute(\"select * from z1details\")\n",
    "for row in c:\n",
    "   print (\"name = \", row[0])\n",
    "   print (\"regno = \", row[1])\n",
    "   print (\"status = \", row[2])\n",
    "  \n",
    "print (\"Operation done successfully\");\n"
   ]
  },
  {
   "cell_type": "code",
   "execution_count": null,
   "id": "d5368b7a",
   "metadata": {},
   "outputs": [],
   "source": []
  }
 ],
 "metadata": {
  "kernelspec": {
   "display_name": "Python 3",
   "language": "python",
   "name": "python3"
  },
  "language_info": {
   "codemirror_mode": {
    "name": "ipython",
    "version": 3
   },
   "file_extension": ".py",
   "mimetype": "text/x-python",
   "name": "python",
   "nbconvert_exporter": "python",
   "pygments_lexer": "ipython3",
   "version": "3.8.8"
  }
 },
 "nbformat": 4,
 "nbformat_minor": 5
}
